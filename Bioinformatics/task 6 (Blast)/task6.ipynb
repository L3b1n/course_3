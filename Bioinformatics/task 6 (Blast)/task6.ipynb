{
 "cells": [
  {
   "cell_type": "markdown",
   "metadata": {},
   "source": [
    "# Локальное выравнивание \n",
    " * Локальным оптимальным выравниванием называется такое оптимальное выравнивание фрагментов последовательностей, при котором любое удлинение или укорочение фрагментов приводит\n",
    "только к уменьшению веса.\n",
    " * Локальному оптимальному выравниванию отвечает путь с наибольшим весом, независимо от того, где он начинается и где кончается.\n",
    "\n",
    "Глобальное выравнивание:\n",
    "<pre>\n",
    "--T--CC-C-AGT--TATGT-CAGGGGACACG-A-GCATGCAGA-GAC\n",
    "  | || |  ||  | | | |||     || | | | | ||||    |\n",
    "AATTGCCGCC-GTCGT-T-TTCAG----CA-GTTATG-T-CAGAT--C\n",
    "</pre>\n",
    "\n",
    "Локальное выравнивание:\n",
    "<pre>\n",
    "                  tccCAGITATGTCAGgggacacgagcatgcagagac  \n",
    "                     ||||||||||||  \n",
    "aattgccgccgtcgttttcagCAGTTATGTCAGatc  \n",
    "</pre>\n",
    "\n",
    " * Задача глобального выравнивания - найти наиболее весомый путь между вершинами(0,0) и (п,т) графа. \n",
    " * Задача локального выравнивания -найти наиболее весомый путьсреди всех путей между вершинами (i, j)и (i', j')."
   ]
  },
  {
   "cell_type": "markdown",
   "metadata": {},
   "source": [
    "BLAST расшифровывается как [Basic Local Alignment Search Tool](https://blast.ncbi.nlm.nih.gov/Blast.cgi). Он находит области сходства между биологическими последовательностями. Biopython предоставляет модуль Bio.Blast для работы с NCBI BLAST. Вы можете запустить BLAST в локальном или интернет-соединении. BLAST был разработан (David Lipman, Stephen Altschul, Warren Gish, ...) на базе National Center for Biotechnology Information (NCBI).  \n",
    "\n",
    "Biopython предоставляет модуль Bio.Blast.NCBIWWW для вызова онлайн-версии BLAST. Для этого нам нужно импортировать следующий модуль :"
   ]
  },
  {
   "cell_type": "code",
   "execution_count": null,
   "metadata": {},
   "outputs": [],
   "source": [
    "from Bio.Blast import NCBIWWW"
   ]
  },
  {
   "cell_type": "markdown",
   "metadata": {},
   "source": [
    "Модуль NCBIWW предоставляет функцию qblast для запроса онлайн-версии [BLAST](https://blast.ncbi.nlm.nih.gov/Blast.cgi). qblast поддерживает все параметры, поддерживаемые онлайн-версией.  \n",
    "\n",
    "Чтобы получить какую-либо справку об этом модуле, используйте приведенную ниже команду и посмотрите описание функции:"
   ]
  },
  {
   "cell_type": "code",
   "execution_count": null,
   "metadata": {},
   "outputs": [],
   "source": [
    "help(NCBIWWW.qblast)"
   ]
  },
  {
   "cell_type": "markdown",
   "metadata": {},
   "source": [
    " * _Приведите другой (ие) способы посмотреть описание функции._\n",
    " \n",
    "Обычно аргументы функции qblast в основном аналогичны различным параметрам, которые вы можете установить на веб-странице BLAST. Это облегчает понимание функции qblast."
   ]
  },
  {
   "cell_type": "markdown",
   "metadata": {},
   "source": [
    "# ЗАДАНИЕ\n",
    "__ЗАДАЧА:__ Выполнить поиск последовательностей на онлайн-сервере BLAST через Biopython.  \n",
    "__ОЦЕНИВАНИЕ:__ 9 баллов"
   ]
  },
  {
   "cell_type": "markdown",
   "metadata": {},
   "source": [
    "# ШАГ 1\n",
    "Создайте файл с именем blast_example.fasta в каталоге Biopython и передайте приведенную ниже информацию о последовательности в качестве входных данных. "
   ]
  },
  {
   "cell_type": "code",
   "execution_count": null,
   "metadata": {},
   "outputs": [],
   "source": [
    "sequence A "
   ]
  },
  {
   "cell_type": "markdown",
   "metadata": {},
   "source": [
    "# ШАГ 2\n",
    "Импортируйте модуль NCBIWWW:"
   ]
  },
  {
   "cell_type": "code",
   "execution_count": null,
   "metadata": {},
   "outputs": [],
   "source": [
    "from Bio.Blast import NCBIWWW"
   ]
  },
  {
   "cell_type": "markdown",
   "metadata": {},
   "source": [
    "# ШАГ 3\n",
    "Откройте файл последовательности blast_example.fasta с помощью модуля ввода-вывода Python. "
   ]
  },
  {
   "cell_type": "code",
   "execution_count": null,
   "metadata": {},
   "outputs": [],
   "source": [
    "sequence_data = open(\"blast_example.fasta\").read()\n",
    "sequence_data"
   ]
  },
  {
   "cell_type": "markdown",
   "metadata": {},
   "source": [
    "# ШАГ 4\n",
    "Теперь вызовите функцию qblast, передавая данные последовательности в качестве основного параметра. Другой параметр представляет базу данных (nt) и внутреннюю программу (blastn). "
   ]
  },
  {
   "cell_type": "code",
   "execution_count": null,
   "metadata": {},
   "outputs": [],
   "source": [
    "result_handle = NCBIWWW.qblast(\"blastn\", \"nt\", sequence_data)\n",
    "result_handle "
   ]
  },
  {
   "cell_type": "markdown",
   "metadata": {},
   "source": [
    "__blast_results__ содержит результат нашего поиска. Он может быть сохранен в файл для последующего использования, а также проанализирован для получения подробной информации. "
   ]
  },
  {
   "cell_type": "markdown",
   "metadata": {},
   "source": [
    "# ШАГ 5\n",
    "Те же функциональные возможности могут быть выполнены с использованием объекта Seq, а не с использованием всего файла fasta, как показано ниже."
   ]
  },
  {
   "cell_type": "code",
   "execution_count": null,
   "metadata": {},
   "outputs": [],
   "source": [
    "from Bio import SeqIO \n",
    "seq_record = next(SeqIO.parse(open('blast_example.fasta'),'fasta')) \n",
    "seq_record.id  \n",
    "seq_record.seq "
   ]
  },
  {
   "cell_type": "markdown",
   "metadata": {},
   "source": [
    "Теперь вызовите функцию qblast, передав объект Seq, record.seq в качестве основного параметра. "
   ]
  },
  {
   "cell_type": "code",
   "execution_count": null,
   "metadata": {},
   "outputs": [],
   "source": [
    "result_handle = NCBIWWW.qblast(\"blastn\", \"nt\", seq_record.seq) \n",
    "print(result_handle) "
   ]
  },
  {
   "cell_type": "markdown",
   "metadata": {},
   "source": [
    "BLAST автоматически назначит идентификатор вашей последовательности. "
   ]
  },
  {
   "cell_type": "markdown",
   "metadata": {},
   "source": [
    "# ШАГ 6\n",
    "Объект result_handle будет иметь весь результат и может быть сохранен в файл для дальнейшего использования."
   ]
  },
  {
   "cell_type": "code",
   "execution_count": null,
   "metadata": {},
   "outputs": [],
   "source": [
    "with open('results.xml', 'w') as save_file: \n",
    "blast_results = result_handle.read() \n",
    "save_file.write(blast_results)"
   ]
  },
  {
   "cell_type": "markdown",
   "metadata": {},
   "source": [
    "РЕЗУЛЬТАТЫ ПОЛОЖИТЬ В ПАПКУ СО СВОЕЙ ФАМИЛИЕЙ:  \n",
    "[https://drive.google.com/drive/folders/14Cu5ckU4EiuRJybnRvysJjGIs6Mdh0qP?usp=sharing](https://drive.google.com/drive/folders/14Cu5ckU4EiuRJybnRvysJjGIs6Mdh0qP?usp=sharing)"
   ]
  }
 ],
 "metadata": {
  "language_info": {
   "name": "python"
  }
 },
 "nbformat": 4,
 "nbformat_minor": 2
}
