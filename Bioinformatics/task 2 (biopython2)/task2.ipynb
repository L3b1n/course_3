{
  "cells": [
    {
      "cell_type": "markdown",
      "metadata": {},
      "source": [
        "В данной практической работе мы создадим простое приложение Biopython для анализа файла биоинформатики и распечатки содержимого.  \n",
        "Это поможет нам понять общую концепцию биопиона и то, как он помогает в области биоинформатики.  \n",
        "[ТЕОРИЯ](https://sites.google.com/view/bioinfbsu/лекции/4-biopython)"
      ]
    },
    {
      "cell_type": "markdown",
      "metadata": {},
      "source": [
        "# ШАГ 1\n",
        "Сначала создайте пример файла последовательности «example.fasta» и поместите в него содержимое ниже.  \n",
        "```txt\n",
        ">sp|P25730|FMS1_ECOLI CS1 fimbrial subunit A precursor (CS1 pilin) \n",
        "MKLKKTIGAMALATLFATMGASAVEKTISVTASVDPTVDLLQSDGSALPNSVALTYSPAV\n",
        "NNFEAHTINTVVHTNDSDKGVVVKLSADPVLSNVLNPTLQIPVSVNFAGKPLSTTGITID \n",
        "SNDLNFASSGVNKVSSTQKLSIHADATRVTGGALTAGQYQGLVSIILTKSTTTTTTTKGT \n",
        "\n",
        ">sp|P15488|FMS3_ECOLI CS3 fimbrial subunit A precursor (CS3 pilin) \n",
        "MLKIKYLLIGLSLSAMSSYSLAAAGPTLTKELALNVLSPAALDATWAPQDNLTLSNTGVS \n",
        "NTLVGVLTLSNTSIDTVSIASTNVSDTSKNGTVTFAHETNNSASFATTISTDNANITLDK \n",
        "NAGNTIVKTTNGSQLPTNLPLKFITTEGNEHLVSGNYRANITITSTIKGGGTKKGTTDKK\n",
        "```"
      ]
    },
    {
      "cell_type": "markdown",
      "metadata": {},
      "source": [
        "Расширение fasta относится к формату файла последовательности. FASTA происходит от программного обеспечения для биоинформатики FASTA и, следовательно, получает свое имя. Формат FASTA состоит из нескольких последовательностей, расположенных одна за другой, и каждая последовательность будет иметь свой собственный идентификатор, имя, описание и фактические данные последовательности. "
      ]
    },
    {
      "cell_type": "markdown",
      "metadata": {},
      "source": [
        "# ШАГ 2\n",
        "Создайте новый скрипт на Python * simple_example.py “, введите приведенный ниже код и сохраните его. "
      ]
    },
    {
      "cell_type": "code",
      "execution_count": 24,
      "metadata": {
        "colab": {
          "base_uri": "https://localhost:8080/"
        },
        "id": "Q3UcYws3iIm4",
        "outputId": "1405ac19-d100-404f-ef05-06a1bc47c8ed"
      },
      "outputs": [
        {
          "name": "stdout",
          "output_type": "stream",
          "text": [
            "Id: sp|P25730|FMS1_ECOLI\n",
            "Name: sp|P25730|FMS1_ECOLI\n",
            "Description: sp|P25730|FMS1_ECOLI CS1 fimbrial subunit A precursor (CS1 pilin)\n",
            "Annotations: {}\n",
            "Sequence Data: MKLKKTIGAMALATLFATMGASAVEKTISVTASVDPTVDLLQSDGSALPNSVALTYSPAVNNFEAHTINTVVHTNDSDKGVVVKLSADPVLSNVLNPTLQIPVSVNFAGKPLSTTGITIDSNDLNFASSGVNKVSSTQKLSIHADATRVTGGALTAGQYQGLVSIILTKSTTTTTTTKGT\n",
            "Id: sp|P15488|FMS3_ECOLI\n",
            "Name: sp|P15488|FMS3_ECOLI\n",
            "Description: sp|P15488|FMS3_ECOLI CS3 fimbrial subunit A precursor (CS3 pilin)\n",
            "Annotations: {}\n",
            "Sequence Data: MLKIKYLLIGLSLSAMSSYSLAAAGPTLTKELALNVLSPAALDATWAPQDNLTLSNTGVSNTLVGVLTLSNTSIDTVSIASTNVSDTSKNGTVTFAHETNNSASFATTISTDNANITLDKNAGNTIVKTTNGSQLPTNLPLKFITTEGNEHLVSGNYRANITITSTIKGGGTKKGTTDKK\n"
          ]
        }
      ],
      "source": [
        "from Bio.Seq import Seq\n",
        "from Bio.SeqIO import parse\n",
        "from Bio.SeqRecord import SeqRecord\n",
        "\n",
        "file = open(\"./data/example.fasta\")\n",
        "records = parse(file, \"fasta\")\n",
        "for record in records:\n",
        "  print(\"Id: %s\" % record.id)\n",
        "  print(\"Name: %s\" % record.name)\n",
        "  print(\"Description: %s\" % record.description)\n",
        "  print(\"Annotations: %s\" % record.annotations)\n",
        "  print(\"Sequence Data: %s\" % record.seq)"
      ]
    },
    {
      "cell_type": "markdown",
      "metadata": {},
      "source": [
        "__Строка 1__ импортирует класс разбора, доступный в модуле Bio.SeqIO. Модуль Bio.SeqIO используется для чтения и записи файла последовательности в другом формате, а класс parse используется для анализа содержимого файла последовательности.\n",
        "\n",
        "__Строка 2__ импортирует класс SeqRecord, доступный в модуле Bio.SeqRecord. Этот модуль используется для управления записями последовательности, а класс SeqRecord используется для представления определенной последовательности, доступной в файле последовательности.\n",
        "\n",
        "__Строка 3__ импортирует класс Seq, доступный в модуле Bio.Seq. Этот модуль используется для манипулирования данными последовательности, а класс Seq используется для представления данных последовательности конкретной записи последовательности, доступной в файле последовательности.\n",
        "\n",
        "__Строка 5__ открывает файл «example.fasta» с помощью обычной функции python, open.\n",
        "\n",
        "__Строка 7__ анализирует содержимое файла последовательности и возвращает содержимое в виде списка объекта SeqRecord.\n",
        "\n",
        "__Строка 9-15__ циклически перебирает записи, используя python for loop, и печатает атрибуты записи последовательности (SqlRecord), такие как id, имя, описание, данные последовательности и т. Д.\n",
        "\n",
        "__Строка 15__ печатает тип последовательности, используя класс Alphabet."
      ]
    },
    {
      "cell_type": "markdown",
      "metadata": {},
      "source": [
        "# ШАГ 3\n",
        "Откройте командную строку и перейдите в папку, содержащую файл последовательности, «example.fasta» и выполните следующую команду  \n",
        "```txt\n",
        "> python simple_example.py\n",
        "```\n",
        "Python запускает скрипт и печатает все данные последовательности, доступные в файле примера, «example.fasta». Вывод будет похож на следующий контент:  \n",
        "```txt\n",
        "Id: sp P25730 FMS1_ECOLI\n",
        "Name: sp P25730 FMS1_ECOLI\n",
        "Decription: sp|P25730|FMS1_ECOLI CS1 fimbrial subunit A precursor (CS1 pilin)\n",
        "Annotations: {}\n",
        "Sequence Data: MKLKKTIGAMALATLFATMGASAVEKTISVTASVDPTVDLLOSDGSALPNSVALTYSPAVNNFEAHTINTVVHTNDSD\n",
        "KGVVVKLSADPVLSNVLNPTLQIPVSVNFAGKPLSTTGITIDSNDLNFASSGVNKVSSTOKLSIHADATRVTGGALTA\n",
        "GQYQGLVSIILTKSTTTTTTTKGT\n",
        "Sequence Alphabet: SingleLetterAlphabet ()\n",
        "Id: Sp P15488 FMS3 ECOLI\n",
        "Name: sp P15488 | FMS3_ECOLI\n",
        "Decription: sp|P15488|FMS ECOLI CS3 fimbrial subunit A precursor (CS3 pilin)\n",
        "Annotations: {}\n",
        "Sequence Data: MLKIKYLLIGLSLSAMSSYSLAAAGPTLTKELALNVLSPAALDATWAPQDNLTLSNTVSNTLVGVLTLSNTSIDTVS\n",
        "IASTVSDTSKNGTVTFAHETNNSASFATTISTDNANITLDKNAGNTIVKTTNGSQLPTLPLKFITTEGNEHLVSGN\n",
        "YRANITITSTIKGGGTKKGTTDKK\n",
        "Sequence Alphabet: SingleLetterAlphabet ()\n",
        "```\n",
        "В этом примере мы видели три класса: parse, SeqRecord и Seq.  \n",
        "Эти три класса предоставляют большую часть функциональности.  \n",
        "Для сдачи работы:  \n",
        " * Создайте папку со своим именем на диске: https://drive.google.com/drive/folders/1t_zC0xQJrjh0AzBL3XpyQWDkA0mb8vS5?usp=sharing\n",
        " * Поместите туда ваше приложение\n",
        " * Покажите окно вывода преподавателю"
      ]
    }
  ],
  "metadata": {
    "colab": {
      "provenance": []
    },
    "kernelspec": {
      "display_name": "Python 3",
      "name": "python3"
    },
    "language_info": {
      "name": "python",
      "version": "3.11.5"
    }
  },
  "nbformat": 4,
  "nbformat_minor": 0
}
