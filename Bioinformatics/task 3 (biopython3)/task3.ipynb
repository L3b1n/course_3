{
  "cells": [
    {
      "cell_type": "markdown",
      "metadata": {},
      "source": [
        "Biopython предоставляет модуль Bio.SeqIO для чтения и записи последовательностей из и в файл (любой поток) соответственно. Он поддерживает практически все форматы файлов, доступные в биоинформатике. Большая часть программного обеспечения обеспечивает разный подход для разных форматов файлов. Но Biopython сознательно следует единому подходу, чтобы представить данные проанализированной последовательности пользователю через его объект SeqRecord. "
      ]
    },
    {
      "cell_type": "markdown",
      "metadata": {},
      "source": [
        "# SeqRecord\n",
        "\n",
        "Модуль Bio.SeqRecord предоставляет SeqRecord для хранения мета-информации о последовательности, а также о самих данных последовательности, как показано ниже:\n",
        " * seq – это фактическая последовательность\n",
        " * id – это первичный идентификатор данной последовательности. Тип по умолчанию – строка\n",
        " * name – это имя последовательности. Тип по умолчанию – строка\n",
        " * description – отображает удобочитаемую информацию о последовательности\n",
        " * аннотации – это словарь дополнительной информации о последовательности\n",
        " * seq – это фактическая последовательность"
      ]
    },
    {
      "cell_type": "markdown",
      "metadata": {},
      "source": [
        "SeqRecord может быть импортирован как указано ниже:"
      ]
    },
    {
      "cell_type": "code",
      "execution_count": null,
      "metadata": {},
      "outputs": [],
      "source": [
        "from Bio.SeqRecord import SegRecord"
      ]
    },
    {
      "cell_type": "markdown",
      "metadata": {},
      "source": [
        "__FASTA__ – это самый основной формат файла для хранения данных последовательности. Изначально FASTA – это программный пакет для выравнивания последовательностей ДНК и белка, разработанный в начале ранней эволюции биоинформатики и использовавшийся в основном для поиска сходства последовательностей. \n",
        "# ШАГ 1\n",
        "Biopython предоставляет пример файла FASTA, доступ к которому можно получить по адресу https://github.com/biopython/biopython/blob/master/Doc/examples/ls_orchid.fasta .\n",
        "Загрузите и сохраните этот файл в каталоге образцов Biopython под именем __‘orchid.fasta’__.\n",
        "\n",
        "Модуль Bio.SeqIO предоставляет метод parse() для обработки файлов последовательности и может быть импортирован следующим образом:"
      ]
    },
    {
      "cell_type": "code",
      "execution_count": null,
      "metadata": {},
      "outputs": [],
      "source": [
        "from Bio.SeqIO import parse"
      ]
    },
    {
      "cell_type": "markdown",
      "metadata": {},
      "source": [
        "Метод parse() содержит два аргумента, первый – дескриптор файла, а второй – формат файла."
      ]
    },
    {
      "cell_type": "markdown",
      "metadata": {},
      "source": [
        "```\n",
        ">>> file = open ('path/to/biopython/sample/orchid.fasta')\n",
        ">>> for record in parse(file,\n",
        "\"fasta\"):\n",
        "print (record.id)\n",
        "gi|2765658 emb Z78533.1|CIZ78533\n",
        "gi|2765657|emb|Z78532.1|CCZ78532\n",
        "gi 2765565 emb|Z78440.1 | PPZ78440\n",
        "gi |2765564 emb|Z78439.1|PBZ78439\n",
        ">>>\n",
        "```"
      ]
    },
    {
      "cell_type": "markdown",
      "metadata": {},
      "source": [
        "Здесь метод parse() возвращает итеративный объект, который возвращает SeqRecord на каждой итерации. Будучи повторяемым, он предоставляет множество сложных и простых методов и позволяет нам увидеть некоторые из особенностей. "
      ]
    },
    {
      "cell_type": "markdown",
      "metadata": {},
      "source": [
        "# ШАГ 2. СЛЕДУЮЩИЙ()\n",
        "Метод next() возвращает следующий элемент, доступный в итерируемом объекте, который мы можем использовать для получения первой последовательности, как показано ниже:  \n",
        "```\n",
        ">>>first_seq_record = next(SeqIO.parse(open('path/to/biopython/sample/orchid.fasta'),'fasta')) \n",
        ">>> first_seq_record.id 'gi|2765658|emb|Z78533.1|CIZ78533' \n",
        ">>> first_seq_record.name 'gi|2765658|emb|Z78533.1|CIZ78533' \n",
        ">>> first_seq_record.seq Seq('CGTAACAAGGTTTCCGTAGGTGAACCTGCGGAAGGATCATTGATGAGACCGTGG...CGC', SingleLetterAlphabet()) \n",
        ">>> first_seq_record.description 'gi|2765658|emb|Z78533.1|CIZ78533 C.irapeanum 5.8S rRNA gene and ITS1 and ITS2 DNA' \n",
        ">>> first_seq_record.annotations \n",
        "{} >>>\n",
        "```"
      ]
    },
    {
      "cell_type": "markdown",
      "metadata": {},
      "source": [
        "# ШАГ 2. ПОНИМАНИЕ СПИСКА\n",
        "__Преобразовать итерируемый объект в список__, используя list comprehension, как указано ниже:  \n",
        "```\n",
        ">>> seq_iter = SeqIO.parse (open ('path/to/biopython/sample/orchid.fasta'), 'fasta')\n",
        "›>> all_seq = [seq_record for seq_record in seq_iter] ››> len(all_seq)\n",
        "94\n",
        ">>>\n",
        "```"
      ]
    },
    {
      "cell_type": "markdown",
      "metadata": {},
      "source": [
        "Получить длину самой длинной последовательности следующим образом:  \n",
        "```\n",
        ">>> seq_iter = SeqIO.parse (open ('path/to/biopython/sample/orchid.fasta'), 'fasta')\n",
        ">>> max_seq = max (len (seq_record.seq) for seq_record in seq_iter)\n",
        "›>> max seq\n",
        "789\n",
        ">>>\n",
        "```"
      ]
    },
    {
      "cell_type": "markdown",
      "metadata": {},
      "source": [
        "Отфильтровать последовательности по длине, используя приведенный ниже код.  \n",
        "Прим. Не нужно делать print. Просто выведите на экран 5 первых элементов списка, если они есть.  \n",
        "```\n",
        "›>> seg iter = SeqIO.parse (open ('path/to/biopython/sample/orchid.fasta'), 'fasta')\n",
        "››> seq_under_600 = [seq_record for seq_record in seq_iter if len (seq_record. seq) < 600]\n",
        "››> for seq in seq_under_600:\n",
        "print(seq.id)\n",
        "gi|2765606 emb Z78481.1 PIZ78481 gi|2765605emb|Z78480.1|PGZ78480\n",
        "gi|2765601|emb|Z78476.1|PGZ78476 gi|2765595 |emb|Z78470.1|PPZ78470\n",
        "gi|2765594|emb|Z78469.1|PHZ78469\n",
        "gi|2765564|emb|Z78439.1|PBZ78439\n",
        "›>>\n",
        "```"
      ]
    },
    {
      "cell_type": "markdown",
      "metadata": {},
      "source": [
        "Записать коллекцию объектов SqlRecord(проанализированные данные) в файл как показано ниже:  \n",
        "```\n",
        "file = open (\"converted. fasta\", \"w)\n",
        "SeqIO.write(seq_record, file,\n",
        "\"fasta\")\n",
        "```"
      ]
    },
    {
      "cell_type": "markdown",
      "metadata": {},
      "source": [
        "Весь код:"
      ]
    },
    {
      "cell_type": "code",
      "execution_count": 28,
      "metadata": {
        "colab": {
          "base_uri": "https://localhost:8080/"
        },
        "id": "Q3UcYws3iIm4",
        "outputId": "d4c81fce-c98d-479f-cd9d-f1a3cbb4d875"
      },
      "outputs": [
        {
          "name": "stdout",
          "output_type": "stream",
          "text": [
            "gi|2765658|emb|Z78533.1|CIZ78533\n",
            "gi|2765657|emb|Z78532.1|CCZ78532\n",
            "gi|2765656|emb|Z78531.1|CFZ78531\n",
            "gi|2765655|emb|Z78530.1|CMZ78530\n",
            "gi|2765654|emb|Z78529.1|CLZ78529\n",
            "gi|2765652|emb|Z78527.1|CYZ78527\n",
            "gi|2765651|emb|Z78526.1|CGZ78526\n",
            "gi|2765650|emb|Z78525.1|CAZ78525\n",
            "gi|2765649|emb|Z78524.1|CFZ78524\n",
            "gi|2765648|emb|Z78523.1|CHZ78523\n",
            "gi|2765647|emb|Z78522.1|CMZ78522\n",
            "gi|2765646|emb|Z78521.1|CCZ78521\n",
            "gi|2765645|emb|Z78520.1|CSZ78520\n",
            "gi|2765644|emb|Z78519.1|CPZ78519\n",
            "gi|2765643|emb|Z78518.1|CRZ78518\n",
            "gi|2765642|emb|Z78517.1|CFZ78517\n",
            "gi|2765641|emb|Z78516.1|CPZ78516\n",
            "gi|2765640|emb|Z78515.1|MXZ78515\n",
            "gi|2765639|emb|Z78514.1|PSZ78514\n",
            "gi|2765638|emb|Z78513.1|PBZ78513\n",
            "gi|2765637|emb|Z78512.1|PWZ78512\n",
            "gi|2765636|emb|Z78511.1|PEZ78511\n",
            "gi|2765635|emb|Z78510.1|PCZ78510\n",
            "gi|2765634|emb|Z78509.1|PPZ78509\n",
            "gi|2765633|emb|Z78508.1|PLZ78508\n",
            "gi|2765632|emb|Z78507.1|PLZ78507\n",
            "gi|2765631|emb|Z78506.1|PLZ78506\n",
            "gi|2765630|emb|Z78505.1|PSZ78505\n",
            "gi|2765629|emb|Z78504.1|PKZ78504\n",
            "gi|2765628|emb|Z78503.1|PCZ78503\n",
            "gi|2765627|emb|Z78502.1|PBZ78502\n",
            "gi|2765626|emb|Z78501.1|PCZ78501\n",
            "gi|2765625|emb|Z78500.1|PWZ78500\n",
            "gi|2765624|emb|Z78499.1|PMZ78499\n",
            "gi|2765623|emb|Z78498.1|PMZ78498\n",
            "gi|2765622|emb|Z78497.1|PDZ78497\n",
            "gi|2765621|emb|Z78496.1|PAZ78496\n",
            "gi|2765620|emb|Z78495.1|PEZ78495\n",
            "gi|2765619|emb|Z78494.1|PNZ78494\n",
            "gi|2765618|emb|Z78493.1|PGZ78493\n",
            "gi|2765617|emb|Z78492.1|PBZ78492\n",
            "gi|2765616|emb|Z78491.1|PCZ78491\n",
            "gi|2765615|emb|Z78490.1|PFZ78490\n",
            "gi|2765614|emb|Z78489.1|PDZ78489\n",
            "gi|2765613|emb|Z78488.1|PTZ78488\n",
            "gi|2765612|emb|Z78487.1|PHZ78487\n",
            "gi|2765611|emb|Z78486.1|PBZ78486\n",
            "gi|2765610|emb|Z78485.1|PHZ78485\n",
            "gi|2765609|emb|Z78484.1|PCZ78484\n",
            "gi|2765608|emb|Z78483.1|PVZ78483\n",
            "gi|2765607|emb|Z78482.1|PEZ78482\n",
            "gi|2765606|emb|Z78481.1|PIZ78481\n",
            "gi|2765605|emb|Z78480.1|PGZ78480\n",
            "gi|2765604|emb|Z78479.1|PPZ78479\n",
            "gi|2765603|emb|Z78478.1|PVZ78478\n",
            "gi|2765602|emb|Z78477.1|PVZ78477\n",
            "gi|2765601|emb|Z78476.1|PGZ78476\n",
            "gi|2765600|emb|Z78475.1|PSZ78475\n",
            "gi|2765599|emb|Z78474.1|PKZ78474\n",
            "gi|2765598|emb|Z78473.1|PSZ78473\n",
            "gi|2765597|emb|Z78472.1|PLZ78472\n",
            "gi|2765596|emb|Z78471.1|PDZ78471\n",
            "gi|2765595|emb|Z78470.1|PPZ78470\n",
            "gi|2765594|emb|Z78469.1|PHZ78469\n",
            "gi|2765593|emb|Z78468.1|PAZ78468\n",
            "gi|2765592|emb|Z78467.1|PSZ78467\n",
            "gi|2765591|emb|Z78466.1|PPZ78466\n",
            "gi|2765590|emb|Z78465.1|PRZ78465\n",
            "gi|2765589|emb|Z78464.1|PGZ78464\n",
            "gi|2765588|emb|Z78463.1|PGZ78463\n",
            "gi|2765587|emb|Z78462.1|PSZ78462\n",
            "gi|2765586|emb|Z78461.1|PWZ78461\n",
            "gi|2765585|emb|Z78460.1|PCZ78460\n",
            "gi|2765584|emb|Z78459.1|PDZ78459\n",
            "gi|2765583|emb|Z78458.1|PHZ78458\n",
            "gi|2765582|emb|Z78457.1|PCZ78457\n",
            "gi|2765581|emb|Z78456.1|PTZ78456\n",
            "gi|2765580|emb|Z78455.1|PJZ78455\n",
            "gi|2765579|emb|Z78454.1|PFZ78454\n",
            "gi|2765578|emb|Z78453.1|PSZ78453\n",
            "gi|2765577|emb|Z78452.1|PBZ78452\n",
            "gi|2765576|emb|Z78451.1|PHZ78451\n",
            "gi|2765575|emb|Z78450.1|PPZ78450\n",
            "gi|2765574|emb|Z78449.1|PMZ78449\n",
            "gi|2765573|emb|Z78448.1|PAZ78448\n",
            "gi|2765572|emb|Z78447.1|PVZ78447\n",
            "gi|2765571|emb|Z78446.1|PAZ78446\n",
            "gi|2765570|emb|Z78445.1|PUZ78445\n",
            "gi|2765569|emb|Z78444.1|PAZ78444\n",
            "gi|2765568|emb|Z78443.1|PLZ78443\n",
            "gi|2765567|emb|Z78442.1|PBZ78442\n",
            "gi|2765566|emb|Z78441.1|PSZ78441\n",
            "gi|2765565|emb|Z78440.1|PPZ78440\n",
            "gi|2765564|emb|Z78439.1|PBZ78439\n",
            "gi|2765606|emb|Z78481.1|PIZ78481\n",
            "gi|2765605|emb|Z78480.1|PGZ78480\n",
            "gi|2765601|emb|Z78476.1|PGZ78476\n",
            "gi|2765595|emb|Z78470.1|PPZ78470\n",
            "gi|2765594|emb|Z78469.1|PHZ78469\n",
            "gi|2765564|emb|Z78439.1|PBZ78439\n"
          ]
        }
      ],
      "source": [
        "from Bio.SeqRecord import SeqRecord\n",
        "from Bio.SeqIO import parse\n",
        "from Bio.SeqIO import write\n",
        "\n",
        "file = open('./data/orchid.fasta')\n",
        "for record in parse(file, \"fasta\"):\n",
        "    print(record.id)\n",
        "\n",
        "first_seq_record = next(parse(open(\"orchid.fasta\"), 'fasta'))\n",
        "\n",
        "first_seq_record.id\n",
        "first_seq_record.name\n",
        "first_seq_record.seq\n",
        "first_seq_record.description\n",
        "first_seq_record.annotations\n",
        "\n",
        "seq_iter = parse(open('orchid.fasta'), 'fasta')\n",
        "all_seq = [s for s in seq_iter]\n",
        "len(all_seq)\n",
        "\n",
        "seq_iter = parse(open('orchid.fasta'), 'fasta')\n",
        "max_seq = max(len(s) for s in seq_iter)\n",
        "max_seq\n",
        "\n",
        "seq_iter = parse(open('orchid.fasta'), 'fasta')\n",
        "seq_under_600 = [s for s in seq_iter if len(s.seq) < 600]\n",
        "for s in seq_under_600:\n",
        "    print(s.id)\n",
        "\n",
        "file = open(\"data/converted.fasta\", 'w')\n",
        "write(seq_under_600, file, 'fasta')\n",
        "file.close()"
      ]
    },
    {
      "cell_type": "markdown",
      "metadata": {},
      "source": [
        "Для сдачи работы:\n",
        " * Загрузите работу в уже созданную Вами папку: https://drive.google.com/drive/folders/1t_zC0xQJrjh0AzBL3XpyQWDkA0mb8vS5?usp=sharing\n",
        " * Покажите и проккоментируйте полученные результаты"
      ]
    }
  ],
  "metadata": {
    "colab": {
      "provenance": []
    },
    "kernelspec": {
      "display_name": "Python 3",
      "name": "python3"
    },
    "language_info": {
      "name": "python"
    }
  },
  "nbformat": 4,
  "nbformat_minor": 0
}
