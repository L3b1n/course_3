{
 "cells": [
  {
   "cell_type": "code",
   "execution_count": null,
   "metadata": {},
   "outputs": [],
   "source": [
    "from Bio.PDB import *\n",
    "import ipywidgets\n",
    "\n",
    "polypeptide_builder = CaPPBuilder()\n",
    "counter = 1\n",
    "for polypeptide in polypeptide_builder.build_peptides(structure):\n",
    "    seq = polypeptide.get_sequence()\n",
    "    print(f\"Sequence: {counter}, Length: {len (seq)}\")\n",
    "    print(seq)\n",
    "    if counter == 1: \n",
    "        chain = seq\n",
    "    counter += 1"
   ]
  },
  {
   "cell_type": "code",
   "execution_count": null,
   "metadata": {},
   "outputs": [],
   "source": [
    "seq = open('./data.fasta').read()\n",
    "seq"
   ]
  },
  {
   "cell_type": "code",
   "execution_count": null,
   "metadata": {},
   "outputs": [],
   "source": [
    "print(seq.count('V'))"
   ]
  },
  {
   "cell_type": "code",
   "execution_count": null,
   "metadata": {},
   "outputs": [],
   "source": [
    "part1, part2 = chain[:225], chain[225:]"
   ]
  },
  {
   "cell_type": "code",
   "execution_count": null,
   "metadata": {},
   "outputs": [],
   "source": [
    "def levenshtein_distance(str1, str2):\n",
    "    distance = [[0] * (len(str2) + 1) for _ in range(len(str1) + 1)]\n",
    "\n",
    "    for i in range(len(str1) + 1):\n",
    "        distance[i][0] = i\n",
    "    for j in range(len(str2) + 1):\n",
    "        distance[0][j] = j\n",
    "\n",
    "    for i in range(1, len(str1) + 1):\n",
    "        for j in range(1, len(str2) + 1):\n",
    "            substitution_cost = 0 if str1[i - 1] == str2[j - 1] else 2\n",
    "            deletion = distance[i - 1][j] + 1\n",
    "            insertion = distance[i][j - 1] + 1\n",
    "            substitution = distance[i - 1][j - 1] + substitution_cost\n",
    "\n",
    "            distance[i][j] = min(deletion, insertion, substitution)\n",
    "\n",
    "    res_number = distance[len(str1)][len(str2)]\n",
    "\n",
    "    return res_number"
   ]
  },
  {
   "cell_type": "code",
   "execution_count": null,
   "metadata": {},
   "outputs": [],
   "source": [
    "print(levenshtein_distance(part1, part2))"
   ]
  },
  {
   "cell_type": "code",
   "execution_count": null,
   "metadata": {},
   "outputs": [],
   "source": [
    "from Bio.Data import CodonTable\n",
    "from Bio.Seq import Seq\n",
    "\n",
    "dna_sequence = \"gcgtgcgatgaatttccggaagatctggcgagcacccatcagccggaataa\"\n",
    "\n",
    "rna_sequence = Seq(dna_sequence).transcribe()\n",
    "protein_sequence = rna_sequence.translate()\n",
    "last_characters = protein_sequence[-9:]\n",
    "\n",
    "print(\"ДНК последовательность:\", dna_sequence, \"\\n\")\n",
    "print(\"РНК последовательность:\", rna_sequence, \"\\n\")\n",
    "print(\"Белок:\", protein_sequence)\n",
    "print(\"Белок:\", last_characters)"
   ]
  }
 ],
 "metadata": {
  "language_info": {
   "name": "python"
  }
 },
 "nbformat": 4,
 "nbformat_minor": 2
}
