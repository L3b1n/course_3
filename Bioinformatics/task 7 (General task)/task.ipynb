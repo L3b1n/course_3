{
  "cells": [
    {
      "cell_type": "code",
      "execution_count": 2,
      "metadata": {
        "colab": {
          "base_uri": "https://localhost:8080/"
        },
        "id": "idY5Va7ry0tJ",
        "outputId": "e06af092-33af-4adf-dca3-24b471b8a60e"
      },
      "outputs": [
        {
          "name": "stderr",
          "output_type": "stream",
          "text": [
            "/usr/local/lib/python3.10/dist-packages/Bio/Entrez/__init__.py:694: UserWarning: \n",
            "            Email address is not specified.\n",
            "\n",
            "            To make use of NCBI's E-utilities, NCBI requires you to specify your\n",
            "            email address with each request.  As an example, if your email address\n",
            "            is A.N.Other@example.com, you can specify it as follows:\n",
            "               from Bio import Entrez\n",
            "               Entrez.email = 'A.N.Other@example.com'\n",
            "            In case of excessive usage of the E-utilities, NCBI will attempt to contact\n",
            "            a user at the email address provided before blocking access to the\n",
            "            E-utilities.\n",
            "  warnings.warn(\n"
          ]
        },
        {
          "name": "stdout",
          "output_type": "stream",
          "text": [
            "The GC-content for gene X53950.1 is 35.73%\n"
          ]
        }
      ],
      "source": [
        "# Task 1\n",
        "from Bio import Entrez, SeqIO\n",
        "\n",
        "# Подсчет G и С. Вычисление % от всей длины\n",
        "def calculate_gc_content(gene_id):\n",
        "    # `Entrez.efetch` используется для извлечения генетической информации из базы данных NCBI.\n",
        "    # Параметр `db` указывает на то, что мы хотим получить данные из базы данных \"nucleotide\" (ядерные последовательности).\n",
        "    # Параметр `id` содержит идентификатор гена, который мы хотим извлечь. Параметры `rettype` и `retmode` указывают\n",
        "    # на формат и режим возвращаемых данных соответственно.\n",
        "    handle = Entrez.efetch(db=\"nucleotide\", id=gene_id, rettype=\"gb\", retmode=\"text\")\n",
        "\n",
        "    # Читаем данные из `handle` и интерпретируем их как формат \"genbank\" (формат хранения генетических последовательностей).\n",
        "    record = SeqIO.read(handle, \"genbank\")\n",
        "\n",
        "    # Метод `count` используется для подсчета количества символов \"G\" (гуанин) и \"C\" (цитозин) в последовательности.\n",
        "    sequence = record.seq\n",
        "    gc_content = (sequence.count(\"G\") + sequence.count(\"C\")) / len(sequence) * 100\n",
        "    return gc_content\n",
        "\n",
        "gene_id = \"X53950.1\"\n",
        "gc_content = calculate_gc_content(gene_id)\n",
        "print(f\"The GC-content for gene {gene_id} is {gc_content:.2f}%\")"
      ]
    },
    {
      "cell_type": "code",
      "execution_count": 3,
      "metadata": {
        "id": "uc6Zzd9d191r"
      },
      "outputs": [],
      "source": [
        "# Task 2\n",
        "from Bio import PDB\n",
        "\n",
        "# Получить последовательность из pdb и записать в fasta\n",
        "def pdb_to_fasta(pdb_filename, fasta_filename):\n",
        "    parser = PDB.PDBParser(QUIET=True)\n",
        "    structure = parser.get_structure('structure', pdb_filename)\n",
        "\n",
        "    with open(fasta_filename, 'w') as fasta_file:\n",
        "        for model in structure:\n",
        "            # `model` - это объект модели, а `chain` - объект цепи.\n",
        "            for chain in model:\n",
        "                # Метод `build_peptides` возвращает список объектов `Polypeptide`, представляющих фрагменты белка в цепи.\n",
        "                # Выбираем первый фрагмент (индекс 0) и получаем его последовательность с помощью метода `get_sequence`.\n",
        "                sequence = PDB.PPBuilder().build_peptides(chain)[0].get_sequence()\n",
        "\n",
        "                # `model.id` содержит идентификатор модели, а `chain.id` - идентификатор цепи.\n",
        "                header = f\">{model.id}_{chain.id}\"\n",
        "\n",
        "                # Записываем в файл\n",
        "                fasta_file.write(f\"{header}\\n{sequence}\\n\")\n",
        "\n",
        "pdb_to_fasta(\"frompdb.pdb\", \"output.fasta\")"
      ]
    },
    {
      "cell_type": "code",
      "execution_count": 4,
      "metadata": {
        "colab": {
          "base_uri": "https://localhost:8080/"
        },
        "id": "elw3H1UX2Dbl",
        "outputId": "6a067191-24d4-457b-8407-4d94dd838074"
      },
      "outputs": [
        {
          "name": "stdout",
          "output_type": "stream",
          "text": [
            "GMAITPRFYF!RRKVLT!ALPAQGPKKSPISYFRMTCVSLRVNHRPQFIEAWGNR!V!LA!ESKSWDHSVVTINLRWGFFGGFLQLPTRRFEVNQLRI!PRYPVISKLKHTVP!RLELLTGLFHACAIPPHSPAYPSERRQCDPPLRYSYV!RSYVFCRAGERVEHFTDGRDSGKGRIIGD!HRRRLRWRQLNRSSSALNNVLISTHSRQSTERLDYQRLSSSSNLLPAS!!PPRD!!!LSAQN!DGADG!RTFGQPQFPTGQVLRCASL!MYKQPKWAEPGLSWFLRELETRDDSSLNIERGRRTVEKVIVPRVPTYSGYCLKLYYFRGGALKVSSSHD!TREGREVGSFNG!KTKAYCAQRNAHLAAGVLNARSPLSFRINPFPSFTSLRSLHWYMNAT!KRALKIGSG!CSKLHLVYSCITAIG!QRFNIE!QGTSGLNERPGKVRARYGRIKGPIERLLSHSLGGKCKTMVTASIHKTCPSVAQSVKCLSPLGPFPAYKRQVVSAFDATVDESASSAPHECCNVLHE!G!LRAVRCVAVLIVVDRPSRLENGTSIFGGSLTSMDCGVFTVLRLPIA!NPAGVKPSPLRDAACSETYTLHGFTAVRSESTKDTIELRSVPSTNLYPTPGACQLLGYHGACGSSRPISNFVMIKSPPREYQRR!LLSCA\n"
          ]
        }
      ],
      "source": [
        "# Task 3 DNK в RNK, а потом в белок\n",
        "with open(\"dna.txt\", \"r\") as f:\n",
        "    dna_sequence = f.read().strip()\n",
        "\n",
        "# Заменяем \"T\" на \"U\"\n",
        "rna_sequence = dna_sequence.replace(\"T\", \"U\")\n",
        "\n",
        "# Ключи представляют кодоны РНК, а значения - соответствующие аминокислоты.\n",
        "codon_table = {\n",
        "      \"GCA\":\"A\", \"GCC\":\"A\", \"GCG\":\"A\", \"GCU\":\"A\",\n",
        "      \"UGC\":\"C\", \"UGU\":\"C\", \"GAC\":\"D\", \"GAU\":\"D\",\n",
        "      \"GAA\":\"E\", \"GAG\":\"E\", \"UUC\":\"F\", \"UUU\":\"F\",\n",
        "      \"GGA\":\"G\", \"GGC\":\"G\", \"GGG\":\"G\", \"GGU\":\"G\",\n",
        "      \"CAC\":\"H\", \"CAU\":\"H\", \"AUA\":\"I\", \"AUC\":\"I\",\n",
        "      \"AUU\":\"I\", \"AAA\":\"K\", \"AAG\":\"K\", \"UUA\":\"L\",\n",
        "      \"UUG\":\"L\", \"CUA\":\"L\", \"CUC\":\"L\", \"CUG\":\"L\",\n",
        "      \"CUU\":\"L\", \"AUG\":\"M\", \"AAC\":\"N\", \"AAU\":\"N\",\n",
        "      \"CCA\":\"P\", \"CCC\":\"P\", \"CCG\":\"P\", \"CCU\":\"P\",\n",
        "      \"CAA\":\"Q\", \"CAG\":\"Q\", \"AGA\":\"R\", \"AGG\":\"R\",\n",
        "      \"CGA\":\"R\", \"CGC\":\"R\", \"CGU\":\"R\", \"CGG\":\"R\",\n",
        "      \"AGC\":\"S\", \"AGU\":\"S\", \"UCA\":\"S\", \"UCC\":\"S\",\n",
        "      \"UCG\":\"S\", \"UCU\":\"S\", \"ACA\":\"T\", \"ACC\":\"T\",\n",
        "      \"ACG\":\"T\", \"ACU\":\"T\", \"GUA\":\"V\", \"GUC\":\"V\",\n",
        "      \"GUG\":\"V\", \"GUU\":\"V\", \"UGG\":\"W\", \"UAC\":\"Y\",\n",
        "      \"UAU\":\"Y\", \"UAG\":\"!\", \"UAA\":\"!\", \"UGA\":\"!\"\n",
        "}\n",
        "\n",
        "# Последовательность белка\n",
        "protein_sequence = \"\"\n",
        "for i in range(0, len(rna_sequence) - 2, 3):\n",
        "    # С помощью среза `rna_sequence[i:i+3]` извлекаем текущий кодон из последовательности РНК.\n",
        "    codon = rna_sequence[i:i+3]\n",
        "\n",
        "    # Берем из каждого кардона соответсвующую аминокислоту и полученная аминокислота добавляется к строке белка\n",
        "    protein_sequence += codon_table.get(codon, \"X\")\n",
        "\n",
        "# Выводим последовательность белка\n",
        "print(protein_sequence)"
      ]
    },
    {
      "cell_type": "code",
      "execution_count": 5,
      "metadata": {
        "colab": {
          "base_uri": "https://localhost:8080/"
        },
        "id": "huiT1tgy2Ix-",
        "outputId": "9991cce2-4b73-4081-b9b2-0324a2465e6c"
      },
      "outputs": [
        {
          "name": "stderr",
          "output_type": "stream",
          "text": [
            "/usr/local/lib/python3.10/dist-packages/Bio/Entrez/__init__.py:694: UserWarning: \n",
            "            Email address is not specified.\n",
            "\n",
            "            To make use of NCBI's E-utilities, NCBI requires you to specify your\n",
            "            email address with each request.  As an example, if your email address\n",
            "            is A.N.Other@example.com, you can specify it as follows:\n",
            "               from Bio import Entrez\n",
            "               Entrez.email = 'A.N.Other@example.com'\n",
            "            In case of excessive usage of the E-utilities, NCBI will attempt to contact\n",
            "            a user at the email address provided before blocking access to the\n",
            "            E-utilities.\n",
            "  warnings.warn(\n"
          ]
        },
        {
          "name": "stdout",
          "output_type": "stream",
          "text": [
            "The UniProt identifier for the protein encoded by gene 7157 is CAA34102.1\n"
          ]
        }
      ],
      "source": [
        "# Task 4\n",
        "from Bio import Entrez, SeqIO\n",
        "\n",
        "# Ищем есть ли id = 7157 в базе nucliotide и выводим его\n",
        "def get_uniprot_id(gene_id):\n",
        "    # В данном случае база данных `nucleotide` указывает, что мы хотим получить запись гена.\n",
        "    # Аргумент `id` принимает идентификатор гена, который мы хотим получить.\n",
        "    # `rettype=\"gb\"` указывает на то, что мы хотим получить запись в формате GenBank\n",
        "    # `retmode=\"text\"` указывает на то, что мы хотим получить текстовую версию записи.\n",
        "    handle = Entrez.efetch(db=\"nucleotide\", id=gene_id, rettype=\"gb\", retmode=\"text\")\n",
        "\n",
        "    # Читаем данные из `handle` и интерпретируем их как формат \"genbank\" (формат хранения генетических последовательностей).\n",
        "    record = SeqIO.read(handle, \"genbank\")\n",
        "\n",
        "    # Объект `record.features` представляет собой список особенностей в записи гена.\n",
        "    for feature in record.features:\n",
        "        if feature.type == \"CDS\":\n",
        "            # Получаем идентификатор белка из квалификаторов особенности.\n",
        "            # Если идентификатор белка присутствует, он прерывает функцию и передается.\n",
        "            protein_id = feature.qualifiers.get('protein_id', [\"\"])[0]\n",
        "            return protein_id\n",
        "    return \"Protein ID not found\"\n",
        "\n",
        "gene_id = \"7157\"\n",
        "uniprot_id = get_uniprot_id(gene_id)\n",
        "print(f\"The UniProt identifier for the protein encoded by gene {gene_id} is {uniprot_id}\")"
      ]
    },
    {
      "cell_type": "code",
      "execution_count": 8,
      "metadata": {
        "colab": {
          "base_uri": "https://localhost:8080/"
        },
        "id": "Zy4cV1qG2OPX",
        "outputId": "9a5ff698-d45f-4f9a-868d-21c9487ceb76"
      },
      "outputs": [
        {
          "name": "stdout",
          "output_type": "stream",
          "text": [
            "Subtask a.\n",
            "Indices of motifs GCNGC: [296, 580, 1101, 1562, 1721, 1779]\n",
            "Subtask b.\n",
            "Eukaryotic mRNA found starting at index 3\n",
            "Eukaryotic mRNA found starting at index 50\n",
            "Eukaryotic mRNA found starting at index 102\n",
            "Eukaryotic mRNA found starting at index 107\n",
            "Eukaryotic mRNA found starting at index 338\n",
            "Eukaryotic mRNA found starting at index 370\n",
            "Eukaryotic mRNA found starting at index 463\n",
            "Eukaryotic mRNA found starting at index 505\n",
            "Eukaryotic mRNA found starting at index 563\n",
            "Eukaryotic mRNA found starting at index 710\n",
            "Eukaryotic mRNA found starting at index 745\n",
            "Eukaryotic mRNA found starting at index 813\n",
            "Eukaryotic mRNA found starting at index 880\n",
            "Eukaryotic mRNA found starting at index 1015\n"
          ]
        }
      ],
      "source": [
        "# Task 5\n",
        "import re\n",
        "\n",
        "with open(\"dna.txt\", \"r\") as f:\n",
        "    dna_sequence = f.read().strip()\n",
        "\n",
        "# Subtask a.\n",
        "print(\"Subtask a.\")\n",
        "# Находим все вхождения мотива 'GC\\wGC', индексы сохраняем в переменную\n",
        "motif_a_indices = [m.start() for m in re.finditer(r'GC\\wGC', dna_sequence)]\n",
        "print(\"Indices of motifs GCNGC:\", motif_a_indices)\n",
        "\n",
        "print(\"Subtask b.\")\n",
        "# Subtask b.\n",
        "# Находим все вхождения кодона 'ATG', индексы сохраняем в переменную\n",
        "start_codon_indices = [m.start() for m in re.finditer(r'ATG', dna_sequence)]\n",
        "for start_index in start_codon_indices:\n",
        "    potential_mrna = dna_sequence[start_index:]\n",
        "    match = re.search(r'ATG[A|T|G|C]{30,1000}A{5,10}', potential_mrna)\n",
        "    if match:\n",
        "        print(\"Eukaryotic mRNA found starting at index\", start_index)"
      ]
    }
  ],
  "metadata": {
    "colab": {
      "provenance": []
    },
    "kernelspec": {
      "display_name": "Python 3",
      "name": "python3"
    },
    "language_info": {
      "codemirror_mode": {
        "name": "ipython",
        "version": 3
      },
      "file_extension": ".py",
      "mimetype": "text/x-python",
      "name": "python",
      "nbconvert_exporter": "python",
      "pygments_lexer": "ipython3",
      "version": "3.11.6"
    }
  },
  "nbformat": 4,
  "nbformat_minor": 0
}
