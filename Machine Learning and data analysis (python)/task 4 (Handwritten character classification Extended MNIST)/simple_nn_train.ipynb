{
 "cells": [
  {
   "cell_type": "code",
   "execution_count": 2,
   "metadata": {},
   "outputs": [],
   "source": [
    "import numpy as np\n",
    "from tensorflow.keras.models import Model\n",
    "from tensorflow.keras import layers\n",
    "from tensorflow.keras.utils import to_categorical"
   ]
  },
  {
   "cell_type": "code",
   "execution_count": 3,
   "metadata": {},
   "outputs": [],
   "source": [
    "TRAIN_DATA_FILE = 'emnist-byclass-train.npz'\n",
    "TEST_DATA_FILE = 'emnist-byclass-test.npz'"
   ]
  },
  {
   "cell_type": "code",
   "execution_count": 4,
   "metadata": {},
   "outputs": [],
   "source": [
    "# Load training data\n",
    "data = np.load(TRAIN_DATA_FILE)\n",
    "train_labels = data['training_labels']\n",
    "train_images = data['training_images']"
   ]
  },
  {
   "cell_type": "code",
   "execution_count": 5,
   "metadata": {},
   "outputs": [],
   "source": [
    "trn_images = train_images.reshape((train_images.shape[0], 28 * 28))\n",
    "trn_images = trn_images.astype('float32') / 255\n",
    "trn_labels = to_categorical(train_labels)"
   ]
  },
  {
   "cell_type": "code",
   "execution_count": 6,
   "metadata": {},
   "outputs": [
    {
     "name": "stdout",
     "output_type": "stream",
     "text": [
      "WARNING:tensorflow:From /home/dzianis/anaconda/envs/tf115/lib/python3.7/site-packages/tensorflow_core/python/ops/resource_variable_ops.py:1630: calling BaseResourceVariable.__init__ (from tensorflow.python.ops.resource_variable_ops) with constraint is deprecated and will be removed in a future version.\n",
      "Instructions for updating:\n",
      "If using Keras pass *_constraint arguments to layers.\n"
     ]
    }
   ],
   "source": [
    "# Define Your Own Network\n",
    "\n",
    "input_layer = layers.Input((28 * 28,))\n",
    "x = layers.Dense(512, activation='relu')(input_layer)\n",
    "x = layers.Dense(256, activation='relu')(x)\n",
    "x = layers.Dense(128, activation='relu')(x)\n",
    "output_layer = layers.Dense(62, activation='softmax')(x)\n",
    "\n",
    "model = Model(inputs=[input_layer], outputs=[output_layer])\n",
    "\n",
    "model.compile(\n",
    "    optimizer='adam',\n",
    "    loss='categorical_crossentropy',\n",
    "    metrics=['accuracy']\n",
    ")"
   ]
  },
  {
   "cell_type": "code",
   "execution_count": 7,
   "metadata": {},
   "outputs": [
    {
     "name": "stdout",
     "output_type": "stream",
     "text": [
      "Train on 697932 samples\n",
      "Epoch 1/5\n",
      "697932/697932 [==============================] - 35s 50us/sample - loss: 0.5946 - acc: 0.8045\n",
      "Epoch 2/5\n",
      "697932/697932 [==============================] - 34s 49us/sample - loss: 0.4455 - acc: 0.8417\n",
      "Epoch 3/5\n",
      "697932/697932 [==============================] - 34s 49us/sample - loss: 0.4144 - acc: 0.8500\n",
      "Epoch 4/5\n",
      "697932/697932 [==============================] - 34s 49us/sample - loss: 0.3956 - acc: 0.8551\n",
      "Epoch 5/5\n",
      "697932/697932 [==============================] - 34s 48us/sample - loss: 0.3818 - acc: 0.8585\n"
     ]
    }
   ],
   "source": [
    "history = model.fit(trn_images, trn_labels, epochs=5, batch_size=128)"
   ]
  },
  {
   "cell_type": "code",
   "execution_count": 8,
   "metadata": {},
   "outputs": [],
   "source": [
    "test_images = np.load(TEST_DATA_FILE)['testing_images']"
   ]
  },
  {
   "cell_type": "code",
   "execution_count": 9,
   "metadata": {},
   "outputs": [],
   "source": [
    "tst_images = test_images.reshape((test_images.shape[0], 28 * 28))\n",
    "tst_images = tst_images.astype('float32') / 255"
   ]
  },
  {
   "cell_type": "code",
   "execution_count": 13,
   "metadata": {},
   "outputs": [],
   "source": [
    "tst_probabilities = model.predict(tst_images)"
   ]
  },
  {
   "cell_type": "code",
   "execution_count": 16,
   "metadata": {},
   "outputs": [],
   "source": [
    "tst_categories = tst_probabilities.argmax(axis=1)"
   ]
  },
  {
   "cell_type": "code",
   "execution_count": 18,
   "metadata": {},
   "outputs": [],
   "source": [
    "# Print results in CSV format and upload to Kaggle\n",
    "with open('pred_results.csv', 'w') as f:\n",
    "    f.write('Id,Category\\n')\n",
    "    for i, category in enumerate(tst_categories):\n",
    "        print(f\"{i},{category}\", file=f)"
   ]
  },
  {
   "cell_type": "code",
   "execution_count": null,
   "metadata": {},
   "outputs": [],
   "source": []
  }
 ],
 "metadata": {
  "kernelspec": {
   "display_name": "Python [conda env:tf115]",
   "language": "python",
   "name": "conda-env-tf115-py"
  },
  "language_info": {
   "codemirror_mode": {
    "name": "ipython",
    "version": 3
   },
   "file_extension": ".py",
   "mimetype": "text/x-python",
   "name": "python",
   "nbconvert_exporter": "python",
   "pygments_lexer": "ipython3",
   "version": "3.7.10"
  }
 },
 "nbformat": 4,
 "nbformat_minor": 4
}
