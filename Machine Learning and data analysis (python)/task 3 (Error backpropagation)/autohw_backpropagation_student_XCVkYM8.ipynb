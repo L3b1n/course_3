{
 "cells": [
  {
   "cell_type": "markdown",
   "metadata": {
    "colab_type": "text",
    "id": "OMhb9pZtnQ8P"
   },
   "source": [
    "# Обратное распространение ошибки\n",
    "\n",
    "Количество баллов: 10 баллов\n",
    "\n",
    "В этой лабораторной вам нужно будет сделать простую вещь: разобраться и описать обратное распространение ошибки для нескольких типов слоёв нейронной сети. Она состоит из двух частей:\n",
    "1. (4 балла) Это теоретическое решение — опишите все формулы для трёх типов слоев, перечисленных ниже. Сдавать эту часть нужно будет вместе с лабораторной 2 по разбору статьи (с тем же дедлайном, что у лабы 2).\n",
    "2. (6 баллов в сумме) Реализуйте эти слои и добейтесь ОК в Контесте — тут вы по традиции мгновенно будете видеть, прошли ли все тесты.\n",
    "\n",
    "Вам предстоит одолеть такие слои:\n",
    "1. (2 балла) BatchNormalization\n",
    "2. (1 балл) Dropout\n",
    "3. (3 балла) Conv2d\n",
    "\n",
    "Полезные ссылки и информация:\n",
    "\n",
    " * Контест https://contest.yandex.ru/contest/45495/enter\n",
    "\n",
    " * Ноутбук `backprop_modules.ipynb`, который надо будет заполнить, преобразовать в .ру-файл и сдать в систему\n",
    " \n",
    " * Ноутбук `backprop_test_modules.ipynb`, который поможет вам проверить локально, всё ли у вас ок\n",
    "\n",
    " * [Backpropagation calculus video](https://www.youtube.com/watch?v=tIeHLnjs5U8)\n",
    "\n",
    "Не забывайте импортить `numpy` в сдаваемом .ру-файле, без этого вас ждёт провал. Никакие специфические нейросетевые библиотеки использовать нельзя (да и не получится всё равно).\n"
   ]
  }
 ],
 "metadata": {
  "colab": {
   "collapsed_sections": [],
   "name": "Bike_Rentals (Regression)",
   "provenance": [],
   "toc_visible": true
  },
  "kernelspec": {
   "display_name": "Python 3 (ipykernel)",
   "language": "python",
   "name": "python3"
  },
  "language_info": {
   "codemirror_mode": {
    "name": "ipython",
    "version": 3
   },
   "file_extension": ".py",
   "mimetype": "text/x-python",
   "name": "python",
   "nbconvert_exporter": "python",
   "pygments_lexer": "ipython3",
   "version": "3.9.7"
  },
  "vscode": {
   "interpreter": {
    "hash": "f98f21f0b58c314391d9edda6a890b43799e7bbdcfa23cfcf4ab03be958beb23"
   }
  }
 },
 "nbformat": 4,
 "nbformat_minor": 1
}
