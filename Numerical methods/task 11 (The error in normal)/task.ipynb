{
  "cells": [
    {
      "cell_type": "markdown",
      "metadata": {},
      "source": [
        "# Условие задачи\n",
        "\n",
        "![](./task.png)"
      ]
    },
    {
      "cell_type": "code",
      "execution_count": 1,
      "metadata": {},
      "outputs": [],
      "source": [
        "import math\n",
        "import numpy as np"
      ]
    },
    {
      "cell_type": "code",
      "execution_count": 2,
      "metadata": {
        "id": "Q78uWfSy1nkB"
      },
      "outputs": [],
      "source": [
        "def func1(x):\n",
        "  return np.exp(x) + np.sin(x)"
      ]
    },
    {
      "cell_type": "code",
      "execution_count": 3,
      "metadata": {
        "id": "JyGip6wM27y0"
      },
      "outputs": [],
      "source": [
        "def partition(a, b, n, func):\n",
        "  points_x = np.zeros(n)\n",
        "  values_y = np.zeros(n)\n",
        "\n",
        "  for i in range(n):\n",
        "    points_x[i] = a + (b - a)*i/(n - 1)\n",
        "    values_y[i] = func(points_x[i])\n",
        "  return points_x, values_y\n"
      ]
    },
    {
      "cell_type": "code",
      "execution_count": 4,
      "metadata": {
        "id": "tuacMJmE0QNc"
      },
      "outputs": [],
      "source": [
        "#Lagrange\n",
        "def Lagrange(n, points_x, values_y, x):\n",
        "  result = 0\n",
        "  for i in range(n):\n",
        "    res1 = 1\n",
        "    for j in range(n):\n",
        "      if i == j:\n",
        "        continue\n",
        "      res1 *= (x - points_x[j])/(points_x[i] - points_x[j])\n",
        "    result += res1* values_y[i]\n",
        "  return result"
      ]
    },
    {
      "cell_type": "markdown",
      "metadata": {
        "id": "QeBdNFRIO2y1"
      },
      "source": [
        "## N = 3"
      ]
    },
    {
      "cell_type": "code",
      "execution_count": 5,
      "metadata": {
        "colab": {
          "base_uri": "https://localhost:8080/",
          "height": 472
        },
        "id": "FZ5c66IZwysA",
        "outputId": "cf0cf1a1-d5e2-4ade-b55f-57d0a48718ea"
      },
      "outputs": [
        {
          "name": "stdout",
          "output_type": "stream",
          "text": [
            "10\n"
          ]
        }
      ],
      "source": [
        "import numpy as np\n",
        "import matplotlib.pyplot as plt\n",
        "\n",
        "for nn in range(0, 50):\n",
        "    x = np.linspace(1, 3, 21)\n",
        "    p_x, v_y = partition(1, 3, 21, func1)\n",
        "    y2 = Lagrange(nn, p_x, v_y, x)\n",
        "\n",
        "    err = np.max(abs(v_y - y2))\n",
        "    if(err < 0.0001):\n",
        "        print(nn)\n",
        "        break\n"
      ]
    }
  ],
  "metadata": {
    "colab": {
      "provenance": [],
      "toc_visible": true
    },
    "kernelspec": {
      "display_name": "Python 3",
      "name": "python3"
    },
    "language_info": {
      "codemirror_mode": {
        "name": "ipython",
        "version": 3
      },
      "file_extension": ".py",
      "mimetype": "text/x-python",
      "name": "python",
      "nbconvert_exporter": "python",
      "pygments_lexer": "ipython3",
      "version": "3.11.6"
    }
  },
  "nbformat": 4,
  "nbformat_minor": 0
}
